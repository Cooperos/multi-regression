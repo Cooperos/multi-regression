{
 "cells": [
  {
   "cell_type": "markdown",
   "metadata": {},
   "source": [
    "# 1 Разработка модели машинного обучения"
   ]
  },
  {
   "cell_type": "markdown",
   "metadata": {},
   "source": [
    "### Обучающая выборка данных разделена на обучающую и тестовую выборку\n",
    "\n",
    "Выборки будут разделены в пропорции 80%/20% потому-что:\n",
    "\n",
    "Если тестовая выборка слишком мала (например, 10% данных), оценка модели может быть ненадежной из-за высокой дисперсии. Это может привести к ошибочным выводам о качестве модели.\n",
    "Если тестовая выборка слишком велика (например, 30% данных), модель может не получить достаточно данных для обучения, что приведет к недообучению.\n",
    "Соотношение 80/20 обеспечивает баланс, минимизируя риск как переобучения, так и недообучения.\n"
   ]
  },
  {
   "cell_type": "code",
   "execution_count": 40,
   "metadata": {},
   "outputs": [],
   "source": [
    "from sklearn.model_selection import train_test_split\n",
    "import pandas as pd\n",
    "import xgboost as xgb\n",
    "from sklearn.metrics import mean_squared_error, r2_score, mean_absolute_error\n",
    "import numpy as np\n",
    "import time\n",
    "from sklearn.linear_model import LinearRegression\n",
    "from sklearn.ensemble import RandomForestRegressor\n"
   ]
  },
  {
   "cell_type": "code",
   "execution_count": 41,
   "metadata": {},
   "outputs": [],
   "source": [
    "full_df_path = \"~/Загрузки/BIG DATA/df_2.csv\"\n",
    "data_y_path = \"~/Загрузки/BIG DATA/target_2.csv\""
   ]
  },
  {
   "cell_type": "code",
   "execution_count": 42,
   "metadata": {},
   "outputs": [
    {
     "name": "stdout",
     "output_type": "stream",
     "text": [
      "{'26', '5', '27', '6', '12', '3', '19', '25', '16', '2', '17', '7', '0', '11', '21', '14', '10'}\n"
     ]
    }
   ],
   "source": [
    "full_df = pd.read_csv(full_df_path)\n",
    "\n",
    "def drop_columns_with_lowest_correlation(df, n=10, columns_to_drop=None):\n",
    "    \"\"\"\n",
    "    Удаляет столбцы с наименьшей корреляцией из DataFrame и возвращает его.\n",
    "\n",
    "    Параметры:\n",
    "    df (pd.DataFrame): Исходный DataFrame.\n",
    "    n (int): Количество столбцов с наименьшей корреляцией, которые нужно удалить.\n",
    "\n",
    "    Возвращает:\n",
    "    pd.DataFrame: DataFrame с удаленными столбцами.\n",
    "    \"\"\"\n",
    "\n",
    "    # Вычисляем матрицу корреляции\n",
    "    corr_matrix = df.corr()\n",
    "    \n",
    "    # Преобразуем матрицу корреляции в одномерный Series, исключая диагональные элементы\n",
    "    corr_series = corr_matrix.unstack().sort_values().drop_duplicates()\n",
    "    \n",
    "    # Исключаем корреляции с самими собой (значения 1.0)\n",
    "    corr_series = corr_series[corr_series != 1.0]\n",
    "\n",
    "    # Получаем n пар столбцов с наименьшей корреляцией\n",
    "    low_corr_pairs = corr_series.head(n).index.tolist()\n",
    "\n",
    "    # Собираем уникальные столбцы для удаления\n",
    "    if columns_to_drop is None:\n",
    "        columns_to_drop = set()\n",
    "        for pair in low_corr_pairs:\n",
    "            columns_to_drop.add(pair[0])\n",
    "            columns_to_drop.add(pair[1])\n",
    "\n",
    "    # Удаляем столбцы из DataFrame\n",
    "    df_dropped = df.drop(columns=columns_to_drop)\n",
    "\n",
    "    return df_dropped, columns_to_drop\n",
    "\n",
    "full_df, columns_to_drop = drop_columns_with_lowest_correlation(full_df)\n",
    "print(columns_to_drop)"
   ]
  },
  {
   "cell_type": "code",
   "execution_count": 43,
   "metadata": {},
   "outputs": [],
   "source": [
    "# Так как ресурсы ограничены, то уменьшим размер данных до 100.000 строк\n",
    "# Таким образом, мы получим предположительные значения метрик моделей и их скорости обучения\n",
    "full_df = full_df.head(100_000).copy()"
   ]
  },
  {
   "cell_type": "code",
   "execution_count": 44,
   "metadata": {},
   "outputs": [],
   "source": [
    "data_y = pd.read_csv(data_y_path)\n",
    "data_y = data_y.head(int(len(full_df))).copy()"
   ]
  },
  {
   "cell_type": "code",
   "execution_count": 45,
   "metadata": {},
   "outputs": [
    {
     "data": {
      "text/html": [
       "<div>\n",
       "<style scoped>\n",
       "    .dataframe tbody tr th:only-of-type {\n",
       "        vertical-align: middle;\n",
       "    }\n",
       "\n",
       "    .dataframe tbody tr th {\n",
       "        vertical-align: top;\n",
       "    }\n",
       "\n",
       "    .dataframe thead th {\n",
       "        text-align: right;\n",
       "    }\n",
       "</style>\n",
       "<table border=\"1\" class=\"dataframe\">\n",
       "  <thead>\n",
       "    <tr style=\"text-align: right;\">\n",
       "      <th></th>\n",
       "      <th>1</th>\n",
       "    </tr>\n",
       "  </thead>\n",
       "  <tbody>\n",
       "    <tr>\n",
       "      <th>0</th>\n",
       "      <td>5092.295833</td>\n",
       "    </tr>\n",
       "    <tr>\n",
       "      <th>1</th>\n",
       "      <td>2310.743036</td>\n",
       "    </tr>\n",
       "    <tr>\n",
       "      <th>2</th>\n",
       "      <td>3887.040957</td>\n",
       "    </tr>\n",
       "    <tr>\n",
       "      <th>3</th>\n",
       "      <td>3437.476122</td>\n",
       "    </tr>\n",
       "    <tr>\n",
       "      <th>4</th>\n",
       "      <td>4166.549638</td>\n",
       "    </tr>\n",
       "  </tbody>\n",
       "</table>\n",
       "</div>"
      ],
      "text/plain": [
       "             1\n",
       "0  5092.295833\n",
       "1  2310.743036\n",
       "2  3887.040957\n",
       "3  3437.476122\n",
       "4  4166.549638"
      ]
     },
     "execution_count": 45,
     "metadata": {},
     "output_type": "execute_result"
    }
   ],
   "source": [
    "data_y = data_y.drop([\"0\"], axis=1)\n",
    "data_y.head()"
   ]
  },
  {
   "cell_type": "code",
   "execution_count": 46,
   "metadata": {},
   "outputs": [],
   "source": [
    "# Разделение данных на обучающую и тестовую выборки в соотношении 80/20\n",
    "X_train, X_test = train_test_split(full_df, test_size=0.2, random_state=42)"
   ]
  },
  {
   "cell_type": "code",
   "execution_count": 47,
   "metadata": {},
   "outputs": [],
   "source": [
    "y_train, y_test = train_test_split(data_y, test_size=0.2, random_state=42)"
   ]
  },
  {
   "cell_type": "code",
   "execution_count": 48,
   "metadata": {},
   "outputs": [],
   "source": [
    "X_train.to_csv(\"./X_train.csv\")\n",
    "X_test.to_csv(\"./X_test.csv\")\n",
    "y_train.to_csv(\"./y_train.csv\")\n",
    "y_test.to_csv(\"./y_test.csv\")\n",
    "\n",
    "X_val = pd.read_csv(\"~/Загрузки/BIG DATA/df_val.csv\")\n",
    "X_val, columns_to_drop = drop_columns_with_lowest_correlation(X_val, columns_to_drop=columns_to_drop)\n",
    "X_val = X_val.head(100_000).copy()\n",
    "X_val.to_csv(\"./X_val.csv\")\n",
    "\n",
    "\n",
    "y_val = pd.read_csv(\"~/Загрузки/BIG DATA/target_val.csv\")\n",
    "y_val = y_val.head(int(len(X_val))).copy()\n",
    "y_val = y_val.drop([\"0\"], axis=1)"
   ]
  },
  {
   "cell_type": "code",
   "execution_count": 49,
   "metadata": {},
   "outputs": [],
   "source": [
    "y_val.to_csv(\"./y_val.csv\")"
   ]
  },
  {
   "cell_type": "markdown",
   "metadata": {},
   "source": [
    "### Испытано как минимум три алгоритма разной сущности (RandomForest и XGBoost – разные сущности, а XGBoost и GradientBoosting – нет). Для оценки точности следует использовать тестовую выборку\n",
    "\n",
    "Выбранные алгоритмы - XGBoost, RandomForest, LinearRegression\n",
    "\n",
    "\n",
    "* LinearRegression позволяет оценить, насколько данные подходят для линейной модели. Если линейная зависимость присутствует, этот метод может дать хорошие результаты с минимальными вычислительными затратами.\n",
    "* RandomForest и XGBoost позволяют улавливать нелинейные зависимости и сложные взаимодействия между признаками, что особенно полезно для задач регрессии с высокой сложностью данных.\n"
   ]
  },
  {
   "cell_type": "markdown",
   "metadata": {},
   "source": [
    "### XGBoost"
   ]
  },
  {
   "cell_type": "code",
   "execution_count": 50,
   "metadata": {},
   "outputs": [],
   "source": [
    "def xgboost_test(X_train, y_train, X_test, y_test):\n",
    "    \"\"\"\n",
    "    Обучает модель XGBoost для задачи регрессии и возвращает модель, предсказания, метрики и время выполнения.\n",
    "\n",
    "    Параметры:\n",
    "    - X_train: Признаки обучающей выборки.\n",
    "    - y_train: Целевая переменная обучающей выборки.\n",
    "    - X_test: Признаки тестовой выборки.\n",
    "    - y_test: Целевая переменная тестовой выборки.\n",
    "\n",
    "    Возвращает:\n",
    "    - model: Обученная модель XGBoost.\n",
    "    - y_pred: Предсказания на тестовой выборке.\n",
    "    - metrics: Словарь с метриками (R², RMSE, MSE, MAE).\n",
    "    - execution_time: Словарь с временем выполнения (обучение, предсказание).\n",
    "    \"\"\"\n",
    "    # Преобразование данных в формат DMatrix (оптимизированный для XGBoost)\n",
    "    dtrain = xgb.DMatrix(X_train, label=y_train)\n",
    "    dtest = xgb.DMatrix(X_test, label=y_test)\n",
    "\n",
    "    # Параметры модели\n",
    "    params = {\n",
    "        'objective': 'reg:squarederror',  # Задача регрессии\n",
    "        'eval_metric': 'rmse',           # Метрика оценки (среднеквадратичная ошибка)\n",
    "        'max_depth': 6,                  # Максимальная глубина дерева\n",
    "        'eta': 0.5,                      # Скорость обучения\n",
    "        'subsample': 0.8,                 # Доля данных для обучения каждого дерева\n",
    "        'colsample_bytree': 0.8,          # Доля признаков для обучения каждого дерева\n",
    "        'seed': 42                        # Фиксация случайности\n",
    "    }\n",
    "\n",
    "    # Измерение времени обучения модели\n",
    "    start_train = time.time()\n",
    "    num_rounds = 10  # Количество итераций (деревьев)\n",
    "    model = xgb.train(params, dtrain, num_rounds)\n",
    "    end_train = time.time()\n",
    "    train_time = end_train - start_train\n",
    "\n",
    "    # Измерение времени предсказания\n",
    "    start_predict = time.time()\n",
    "    y_pred = model.predict(dtest)\n",
    "    end_predict = time.time()\n",
    "    predict_time = end_predict - start_predict\n",
    "\n",
    "    # Вычисление метрик\n",
    "    mse = mean_squared_error(y_test, y_pred)\n",
    "    rmse = np.sqrt(mse)  # RMSE\n",
    "    r2 = r2_score(y_test, y_pred)  # R²\n",
    "    mae = mean_absolute_error(y_test, y_pred)  # MAE\n",
    "\n",
    "    # Вывод метрик\n",
    "    print(f\"Среднеквадратичная ошибка (MSE): {mse}\")\n",
    "    print(f\"Среднеквадратичная ошибка (RMSE): {rmse}\")\n",
    "    print(f\"Коэффициент детерминации (R²): {r2}\")\n",
    "    print(f\"Точность (MAE): {mae}\")\n",
    "\n",
    "    # Вывод времени выполнения\n",
    "    print(f\"Время обучения модели: {train_time:.2f} секунд\")\n",
    "    print(f\"Время предсказания: {predict_time:.2f} секунд\")\n",
    "\n",
    "    # Возвращаем модель, предсказания, метрики и время выполнения\n",
    "    metrics = {'R²': r2, 'RMSE': rmse, 'MSE': mse, 'MAE': mae}\n",
    "    execution_time = {'train_time': train_time, 'predict_time': predict_time}\n",
    "    return model, y_pred, metrics, execution_time"
   ]
  },
  {
   "cell_type": "code",
   "execution_count": 51,
   "metadata": {},
   "outputs": [
    {
     "name": "stdout",
     "output_type": "stream",
     "text": [
      "Среднеквадратичная ошибка (MSE): 1128926.875\n",
      "Среднеквадратичная ошибка (RMSE): 1062.509705838022\n",
      "Коэффициент детерминации (R²): 0.3226301670074463\n",
      "Точность (MAE): 864.2380981445312\n",
      "Время обучения модели: 0.31 секунд\n",
      "Время предсказания: 0.01 секунд\n"
     ]
    }
   ],
   "source": [
    "xgboost_results = xgboost_test(X_train=X_train, X_test=X_test, y_train=y_train, y_test=y_test)"
   ]
  },
  {
   "cell_type": "code",
   "execution_count": 52,
   "metadata": {},
   "outputs": [],
   "source": [
    "import pickle"
   ]
  },
  {
   "cell_type": "code",
   "execution_count": 53,
   "metadata": {},
   "outputs": [],
   "source": [
    "def save_model(model):\n",
    "    with open('xgboost_model.pkl', 'wb') as model_file:\n",
    "        pickle.dump(model, model_file)\n",
    "\n",
    "save_model(xgboost_results[0])"
   ]
  },
  {
   "cell_type": "markdown",
   "metadata": {},
   "source": [
    "### RandomForest"
   ]
  },
  {
   "cell_type": "code",
   "execution_count": 54,
   "metadata": {},
   "outputs": [],
   "source": [
    "def random_forest_test(X_train, y_train, X_test, y_test):\n",
    "    \"\"\"\n",
    "    Обучает модель Random Forest для задачи регрессии и возвращает модель, предсказания, метрики и время выполнения.\n",
    "\n",
    "    Параметры:\n",
    "    - X_train: Признаки обучающей выборки.\n",
    "    - y_train: Целевая переменная обучающей выборки.\n",
    "    - X_test: Признаки тестовой выборки.\n",
    "    - y_test: Целевая переменная тестовой выборки.\n",
    "\n",
    "    Возвращает:\n",
    "    - model: Обученная модель RandomForestRegressor.\n",
    "    - y_pred: Предсказания на тестовой выборке.\n",
    "    - metrics: Словарь с метриками (R², RMSE, MSE, MAE).\n",
    "    - execution_time: Словарь с временем выполнения (обучение, предсказание).\n",
    "    \"\"\"\n",
    "    # Параметры модели\n",
    "    params = {\n",
    "        'n_estimators': 10,  # Количество деревьев\n",
    "        'max_depth': 6,  # Максимальная глубина дерева\n",
    "        'min_samples_split': 2,  # Минимальное количество образцов для разделения узла\n",
    "        'min_samples_leaf': 1,  # Минимальное количество образцов в листе\n",
    "        'random_state': 42  # Фиксация случайности\n",
    "    }\n",
    "\n",
    "    # Создание и обучение модели\n",
    "    model = RandomForestRegressor(**params)\n",
    "\n",
    "    # Измерение времени обучения модели\n",
    "    start_train = time.time()\n",
    "    model.fit(X_train, y_train)\n",
    "    end_train = time.time()\n",
    "    train_time = end_train - start_train\n",
    "\n",
    "    # Измерение времени предсказания\n",
    "    start_predict = time.time()\n",
    "    y_pred = model.predict(X_test)\n",
    "    end_predict = time.time()\n",
    "    predict_time = end_predict - start_predict\n",
    "\n",
    "    # Вычисление метрик\n",
    "    mse = mean_squared_error(y_test, y_pred)\n",
    "    rmse = np.sqrt(mse)  # RMSE\n",
    "    r2 = r2_score(y_test, y_pred)  # R²\n",
    "    mae = mean_absolute_error(y_test, y_pred)  # MAE\n",
    "\n",
    "    # Вывод метрик\n",
    "    print(f\"Среднеквадратичная ошибка (MSE): {mse}\")\n",
    "    print(f\"Среднеквадратичная ошибка (RMSE): {rmse}\")\n",
    "    print(f\"Коэффициент детерминации (R²): {r2}\")\n",
    "    print(f\"Средняя абсолютная ошибка (MAE): {mae}\")\n",
    "\n",
    "    # Вывод времени выполнения\n",
    "    print(f\"Время обучения модели: {train_time:.2f} секунд\")\n",
    "    print(f\"Время предсказания: {predict_time:.2f} секунд\")\n",
    "\n",
    "    # Возвращаем модель, предсказания, метрики и время выполнения\n",
    "    metrics = {'R²': r2, 'RMSE': rmse, 'MSE': mse, 'MAE': mae}\n",
    "    execution_time = {'train_time': train_time, 'predict_time': predict_time}\n",
    "    return model, y_pred, metrics, execution_time"
   ]
  },
  {
   "cell_type": "code",
   "execution_count": 55,
   "metadata": {},
   "outputs": [
    {
     "name": "stderr",
     "output_type": "stream",
     "text": [
      "/home/c2/main_venv/lib/python3.11/site-packages/sklearn/base.py:1389: DataConversionWarning: A column-vector y was passed when a 1d array was expected. Please change the shape of y to (n_samples,), for example using ravel().\n",
      "  return fit_method(estimator, *args, **kwargs)\n"
     ]
    },
    {
     "name": "stdout",
     "output_type": "stream",
     "text": [
      "Среднеквадратичная ошибка (MSE): 1134000.6474228955\n",
      "Среднеквадратичная ошибка (RMSE): 1064.8946649424513\n",
      "Коэффициент детерминации (R²): 0.31958579584265046\n",
      "Средняя абсолютная ошибка (MAE): 866.9995806651078\n",
      "Время обучения модели: 4.37 секунд\n",
      "Время предсказания: 0.01 секунд\n"
     ]
    }
   ],
   "source": [
    "rf_results = random_forest_test(X_train=X_train, X_test=X_test, y_train=y_train, y_test=y_test)"
   ]
  },
  {
   "cell_type": "code",
   "execution_count": 56,
   "metadata": {},
   "outputs": [],
   "source": [
    "def save_model(model):\n",
    "    with open('rf_model.pkl', 'wb') as model_file:\n",
    "        pickle.dump(model, model_file)\n",
    "\n",
    "save_model(rf_results[0])"
   ]
  },
  {
   "cell_type": "markdown",
   "metadata": {},
   "source": [
    "### Linear Regression"
   ]
  },
  {
   "cell_type": "code",
   "execution_count": 57,
   "metadata": {},
   "outputs": [],
   "source": [
    "def linear_regression_test(X_train, y_train, X_test, y_test):\n",
    "    \"\"\"\n",
    "    Обучает модель Linear Regression для задачи регрессии и возвращает модель, предсказания, метрики и время выполнения.\n",
    "\n",
    "    Параметры:\n",
    "    - X_train: Признаки обучающей выборки.\n",
    "    - y_train: Целевая переменная обучающей выборки.\n",
    "    - X_test: Признаки тестовой выборки.\n",
    "    - y_test: Целевая переменная тестовой выборки.\n",
    "\n",
    "    Возвращает:\n",
    "    - model: Обученная модель LinearRegression.\n",
    "    - y_pred: Предсказания на тестовой выборке.\n",
    "    - metrics: Словарь с метриками (R², RMSE, MSE, MAE).\n",
    "    - execution_time: Словарь с временем выполнения (обучение, предсказание).\n",
    "    \"\"\"\n",
    "    # Создание и обучение модели\n",
    "    model = LinearRegression()\n",
    "\n",
    "    # Измерение времени обучения модели\n",
    "    start_train = time.time()\n",
    "    model.fit(X_train, y_train)\n",
    "    end_train = time.time()\n",
    "    train_time = end_train - start_train\n",
    "\n",
    "    # Измерение времени предсказания\n",
    "    start_predict = time.time()\n",
    "    y_pred = model.predict(X_test)\n",
    "    end_predict = time.time()\n",
    "    predict_time = end_predict - start_predict\n",
    "\n",
    "    # Вычисление метрик\n",
    "    mse = mean_squared_error(y_test, y_pred)\n",
    "    rmse = np.sqrt(mse)  # RMSE\n",
    "    r2 = r2_score(y_test, y_pred)  # R²\n",
    "    mae = mean_absolute_error(y_test, y_pred)  # MAE\n",
    "\n",
    "    # Вывод метрик\n",
    "    print(f\"Среднеквадратичная ошибка (MSE): {mse}\")\n",
    "    print(f\"Среднеквадратичная ошибка (RMSE): {rmse}\")\n",
    "    print(f\"Коэффициент детерминации (R²): {r2}\")\n",
    "    print(f\"Средняя абсолютная ошибка (MAE): {mae}\")\n",
    "\n",
    "    # Вывод времени выполнения\n",
    "    print(f\"Время обучения модели: {train_time:.2f} секунд\")\n",
    "    print(f\"Время предсказания: {predict_time:.2f} секунд\")\n",
    "\n",
    "    # Возвращаем модель, предсказания, метрики и время выполнения\n",
    "    metrics = {'R²': r2, 'RMSE': rmse, 'MSE': mse, 'MAE': mae}\n",
    "    execution_time = {'train_time': train_time, 'predict_time': predict_time}\n",
    "    return model, y_pred, metrics, execution_time"
   ]
  },
  {
   "cell_type": "code",
   "execution_count": 58,
   "metadata": {},
   "outputs": [
    {
     "name": "stdout",
     "output_type": "stream",
     "text": [
      "Среднеквадратичная ошибка (MSE): 1165439.6021936312\n",
      "Среднеквадратичная ошибка (RMSE): 1079.5552798229608\n",
      "Коэффициент детерминации (R²): 0.3007220399546068\n",
      "Средняя абсолютная ошибка (MAE): 878.3796678118957\n",
      "Время обучения модели: 0.04 секунд\n",
      "Время предсказания: 0.00 секунд\n"
     ]
    }
   ],
   "source": [
    "lr_results = linear_regression_test(X_train=X_train, X_test=X_test, y_train=y_train, y_test=y_test)"
   ]
  },
  {
   "cell_type": "code",
   "execution_count": 59,
   "metadata": {},
   "outputs": [],
   "source": [
    "def save_model(model):\n",
    "    with open('lr_model.pkl', 'wb') as model_file:\n",
    "        pickle.dump(model, model_file)\n",
    "\n",
    "save_model(lr_results[0])"
   ]
  },
  {
   "cell_type": "markdown",
   "metadata": {},
   "source": [
    "### Испытанные алгоритмы сравнены по точности, а также по скорости работы\n",
    "\n",
    "Значения времени выполнения, записанные в переменные во время тестирования, преведены ниже\n",
    "\n",
    "##### XGBoost\n",
    "\n",
    "    Среднеквадратичная ошибка (MSE): 1128926.875\n",
    "    Среднеквадратичная ошибка (RMSE): 1062.509705838022\n",
    "    Коэффициент детерминации (R²): 0.3226301670074463\n",
    "    Точность (MAE): 864.2380981445312\n",
    "    Время обучения модели: 0.25 секунд\n",
    "    Время предсказания: 0.00 секунд\n",
    "\n",
    "##### RandomForest\n",
    "\n",
    "    Среднеквадратичная ошибка (MSE): 1134000.6474228955\n",
    "    Среднеквадратичная ошибка (RMSE): 1064.8946649424513\n",
    "    Коэффициент детерминации (R²): 0.31958579584265046\n",
    "    Средняя абсолютная ошибка (MAE): 866.9995806651078\n",
    "    Время обучения модели: 4.46 секунд\n",
    "    Время предсказания: 0.01 секунд\n",
    "\n",
    "##### LinearRegression\n",
    "\n",
    "    Среднеквадратичная ошибка (MSE): 1165439.6021936312 \n",
    "    Среднеквадратичная ошибка (RMSE): 1079.5552798229608\n",
    "    Коэффициент детерминации (R²): 0.3007220399546068\n",
    "    Средняя абсолютная ошибка (MAE): 878.3796678118957\n",
    "    Время обучения модели: 0.03 секунд\n",
    "    Время предсказания: 0.00 секунд\n",
    "\n",
    "Таким образом,\n",
    "* Самая быстрая модель: LinearRegression\n",
    "* Самый лучший R2: LinearRegression\n",
    "* Самый лучший RMSE: LinearRegression\n",
    "\n",
    "Модель будет немного улучшена и добавлена в pipeline"
   ]
  },
  {
   "cell_type": "markdown",
   "metadata": {},
   "source": [
    "### Лучший алгоритм реализован в виде пайплайна, принимающего на вход пути к файлам, а на выходе возвращает обученную модель, а также метрики модели на валидационной выборке в виде словаря (необходимые метрики: средний коэффициент детерминации R2 и средний RMSE).\n",
    "\n",
    "Реализация пайплайна для алгоритма LinearRegression с использованием функции для его тестирования:"
   ]
  },
  {
   "cell_type": "code",
   "execution_count": 60,
   "metadata": {},
   "outputs": [],
   "source": [
    "def pipeline(data_X_path: str, data_y_path: str, data_x_valid_path: str, data_y_valid_path: str):\n",
    "    data_X = pd.read_csv(data_X_path)\n",
    "    data_X, columns_to_drop = drop_columns_with_lowest_correlation(data_X, columns_to_drop=columns_to_drop)\n",
    "    data_X = data_X.head(100_000).copy()\n",
    "    data_y = pd.read_csv(data_y_path)\n",
    "    data_y = data_y.head(int(len(data_X))).copy()\n",
    "    data_y = data_y.drop([\"0\"], axis=1)\n",
    "    data_y.head()\n",
    "    X_train, X_test = train_test_split(full_df, test_size=0.2, random_state=42)\n",
    "    y_train, y_test = train_test_split(data_y, test_size=0.2, random_state=42)\n",
    "    results = linear_regression_test(X_train=X_train, X_test=X_test, y_train=y_train, y_test=y_test)\n",
    "\n",
    "    X_valid = pd.read_csv(data_x_valid_path)\n",
    "    y_valid = pd.read_csv(data_y_valid_path)\n",
    "\n",
    "    model = results[0]\n",
    "    y_pred = model.predict(X_valid)\n",
    "\n",
    "    mse = mean_squared_error(y_valid, y_pred)\n",
    "    rmse = np.sqrt(mse)  # RMSE\n",
    "    r2 = r2_score(y_valid, y_pred)  # R²\n",
    "\n",
    "    print(f\"Среднеквадратичная ошибка (RMSE): {rmse}\")\n",
    "    print(f\"Коэффициент детерминации (R²): {r2}\")\n",
    "\n",
    "    metrics = {'R²': r2, 'RMSE': rmse}\n",
    "\n",
    "    return model, metrics"
   ]
  },
  {
   "cell_type": "code",
   "execution_count": 61,
   "metadata": {},
   "outputs": [
    {
     "ename": "ParserError",
     "evalue": "Error tokenizing data. C error: Calling read(nbytes) on source failed. Try engine='python'.",
     "output_type": "error",
     "traceback": [
      "\u001b[0;31m---------------------------------------------------------------------------\u001b[0m",
      "\u001b[0;31mParserError\u001b[0m                               Traceback (most recent call last)",
      "Cell \u001b[0;32mIn[61], line 6\u001b[0m\n\u001b[1;32m      3\u001b[0m data_x_val_path \u001b[38;5;241m=\u001b[39m \u001b[38;5;124m\"\u001b[39m\u001b[38;5;124m./X_val.csv\u001b[39m\u001b[38;5;124m\"\u001b[39m\n\u001b[1;32m      4\u001b[0m data_y_val_path \u001b[38;5;241m=\u001b[39m \u001b[38;5;124m\"\u001b[39m\u001b[38;5;124m./y_val.csv\u001b[39m\u001b[38;5;124m\"\u001b[39m\n\u001b[0;32m----> 6\u001b[0m model, metrics \u001b[38;5;241m=\u001b[39m \u001b[43mpipeline\u001b[49m\u001b[43m(\u001b[49m\u001b[43mdata_y_path\u001b[49m\u001b[38;5;241;43m=\u001b[39;49m\u001b[43mdata_y_path\u001b[49m\u001b[43m,\u001b[49m\u001b[43m \u001b[49m\u001b[43mdata_X_path\u001b[49m\u001b[38;5;241;43m=\u001b[39;49m\u001b[43mfull_df_path\u001b[49m\u001b[43m,\u001b[49m\u001b[43m \u001b[49m\u001b[43mdata_x_valid_path\u001b[49m\u001b[38;5;241;43m=\u001b[39;49m\u001b[43mdata_x_val_path\u001b[49m\u001b[43m,\u001b[49m\u001b[43m \u001b[49m\u001b[43mdata_y_valid_path\u001b[49m\u001b[38;5;241;43m=\u001b[39;49m\u001b[43mdata_y_val_path\u001b[49m\u001b[43m)\u001b[49m\n",
      "Cell \u001b[0;32mIn[60], line 2\u001b[0m, in \u001b[0;36mpipeline\u001b[0;34m(data_X_path, data_y_path, data_x_valid_path, data_y_valid_path)\u001b[0m\n\u001b[1;32m      1\u001b[0m \u001b[38;5;28;01mdef\u001b[39;00m\u001b[38;5;250m \u001b[39m\u001b[38;5;21mpipeline\u001b[39m(data_X_path: \u001b[38;5;28mstr\u001b[39m, data_y_path: \u001b[38;5;28mstr\u001b[39m, data_x_valid_path: \u001b[38;5;28mstr\u001b[39m, data_y_valid_path: \u001b[38;5;28mstr\u001b[39m):\n\u001b[0;32m----> 2\u001b[0m     data_X \u001b[38;5;241m=\u001b[39m \u001b[43mpd\u001b[49m\u001b[38;5;241;43m.\u001b[39;49m\u001b[43mread_csv\u001b[49m\u001b[43m(\u001b[49m\u001b[43mdata_X_path\u001b[49m\u001b[43m)\u001b[49m\n\u001b[1;32m      3\u001b[0m     data_X, columns_to_drop \u001b[38;5;241m=\u001b[39m drop_columns_with_lowest_correlation(data_X, columns_to_drop\u001b[38;5;241m=\u001b[39mcolumns_to_drop)\n\u001b[1;32m      4\u001b[0m     data_X \u001b[38;5;241m=\u001b[39m data_X\u001b[38;5;241m.\u001b[39mhead(\u001b[38;5;241m100_000\u001b[39m)\u001b[38;5;241m.\u001b[39mcopy()\n",
      "File \u001b[0;32m~/main_venv/lib/python3.11/site-packages/pandas/io/parsers/readers.py:1026\u001b[0m, in \u001b[0;36mread_csv\u001b[0;34m(filepath_or_buffer, sep, delimiter, header, names, index_col, usecols, dtype, engine, converters, true_values, false_values, skipinitialspace, skiprows, skipfooter, nrows, na_values, keep_default_na, na_filter, verbose, skip_blank_lines, parse_dates, infer_datetime_format, keep_date_col, date_parser, date_format, dayfirst, cache_dates, iterator, chunksize, compression, thousands, decimal, lineterminator, quotechar, quoting, doublequote, escapechar, comment, encoding, encoding_errors, dialect, on_bad_lines, delim_whitespace, low_memory, memory_map, float_precision, storage_options, dtype_backend)\u001b[0m\n\u001b[1;32m   1013\u001b[0m kwds_defaults \u001b[38;5;241m=\u001b[39m _refine_defaults_read(\n\u001b[1;32m   1014\u001b[0m     dialect,\n\u001b[1;32m   1015\u001b[0m     delimiter,\n\u001b[0;32m   (...)\u001b[0m\n\u001b[1;32m   1022\u001b[0m     dtype_backend\u001b[38;5;241m=\u001b[39mdtype_backend,\n\u001b[1;32m   1023\u001b[0m )\n\u001b[1;32m   1024\u001b[0m kwds\u001b[38;5;241m.\u001b[39mupdate(kwds_defaults)\n\u001b[0;32m-> 1026\u001b[0m \u001b[38;5;28;01mreturn\u001b[39;00m \u001b[43m_read\u001b[49m\u001b[43m(\u001b[49m\u001b[43mfilepath_or_buffer\u001b[49m\u001b[43m,\u001b[49m\u001b[43m \u001b[49m\u001b[43mkwds\u001b[49m\u001b[43m)\u001b[49m\n",
      "File \u001b[0;32m~/main_venv/lib/python3.11/site-packages/pandas/io/parsers/readers.py:626\u001b[0m, in \u001b[0;36m_read\u001b[0;34m(filepath_or_buffer, kwds)\u001b[0m\n\u001b[1;32m    623\u001b[0m     \u001b[38;5;28;01mreturn\u001b[39;00m parser\n\u001b[1;32m    625\u001b[0m \u001b[38;5;28;01mwith\u001b[39;00m parser:\n\u001b[0;32m--> 626\u001b[0m     \u001b[38;5;28;01mreturn\u001b[39;00m \u001b[43mparser\u001b[49m\u001b[38;5;241;43m.\u001b[39;49m\u001b[43mread\u001b[49m\u001b[43m(\u001b[49m\u001b[43mnrows\u001b[49m\u001b[43m)\u001b[49m\n",
      "File \u001b[0;32m~/main_venv/lib/python3.11/site-packages/pandas/io/parsers/readers.py:1923\u001b[0m, in \u001b[0;36mTextFileReader.read\u001b[0;34m(self, nrows)\u001b[0m\n\u001b[1;32m   1916\u001b[0m nrows \u001b[38;5;241m=\u001b[39m validate_integer(\u001b[38;5;124m\"\u001b[39m\u001b[38;5;124mnrows\u001b[39m\u001b[38;5;124m\"\u001b[39m, nrows)\n\u001b[1;32m   1917\u001b[0m \u001b[38;5;28;01mtry\u001b[39;00m:\n\u001b[1;32m   1918\u001b[0m     \u001b[38;5;66;03m# error: \"ParserBase\" has no attribute \"read\"\u001b[39;00m\n\u001b[1;32m   1919\u001b[0m     (\n\u001b[1;32m   1920\u001b[0m         index,\n\u001b[1;32m   1921\u001b[0m         columns,\n\u001b[1;32m   1922\u001b[0m         col_dict,\n\u001b[0;32m-> 1923\u001b[0m     ) \u001b[38;5;241m=\u001b[39m \u001b[38;5;28;43mself\u001b[39;49m\u001b[38;5;241;43m.\u001b[39;49m\u001b[43m_engine\u001b[49m\u001b[38;5;241;43m.\u001b[39;49m\u001b[43mread\u001b[49m\u001b[43m(\u001b[49m\u001b[43m  \u001b[49m\u001b[38;5;66;43;03m# type: ignore[attr-defined]\u001b[39;49;00m\n\u001b[1;32m   1924\u001b[0m \u001b[43m        \u001b[49m\u001b[43mnrows\u001b[49m\n\u001b[1;32m   1925\u001b[0m \u001b[43m    \u001b[49m\u001b[43m)\u001b[49m\n\u001b[1;32m   1926\u001b[0m \u001b[38;5;28;01mexcept\u001b[39;00m \u001b[38;5;167;01mException\u001b[39;00m:\n\u001b[1;32m   1927\u001b[0m     \u001b[38;5;28mself\u001b[39m\u001b[38;5;241m.\u001b[39mclose()\n",
      "File \u001b[0;32m~/main_venv/lib/python3.11/site-packages/pandas/io/parsers/c_parser_wrapper.py:234\u001b[0m, in \u001b[0;36mCParserWrapper.read\u001b[0;34m(self, nrows)\u001b[0m\n\u001b[1;32m    232\u001b[0m \u001b[38;5;28;01mtry\u001b[39;00m:\n\u001b[1;32m    233\u001b[0m     \u001b[38;5;28;01mif\u001b[39;00m \u001b[38;5;28mself\u001b[39m\u001b[38;5;241m.\u001b[39mlow_memory:\n\u001b[0;32m--> 234\u001b[0m         chunks \u001b[38;5;241m=\u001b[39m \u001b[38;5;28;43mself\u001b[39;49m\u001b[38;5;241;43m.\u001b[39;49m\u001b[43m_reader\u001b[49m\u001b[38;5;241;43m.\u001b[39;49m\u001b[43mread_low_memory\u001b[49m\u001b[43m(\u001b[49m\u001b[43mnrows\u001b[49m\u001b[43m)\u001b[49m\n\u001b[1;32m    235\u001b[0m         \u001b[38;5;66;03m# destructive to chunks\u001b[39;00m\n\u001b[1;32m    236\u001b[0m         data \u001b[38;5;241m=\u001b[39m _concatenate_chunks(chunks)\n",
      "File \u001b[0;32mparsers.pyx:838\u001b[0m, in \u001b[0;36mpandas._libs.parsers.TextReader.read_low_memory\u001b[0;34m()\u001b[0m\n",
      "File \u001b[0;32mparsers.pyx:905\u001b[0m, in \u001b[0;36mpandas._libs.parsers.TextReader._read_rows\u001b[0;34m()\u001b[0m\n",
      "File \u001b[0;32mparsers.pyx:874\u001b[0m, in \u001b[0;36mpandas._libs.parsers.TextReader._tokenize_rows\u001b[0;34m()\u001b[0m\n",
      "File \u001b[0;32mparsers.pyx:891\u001b[0m, in \u001b[0;36mpandas._libs.parsers.TextReader._check_tokenize_status\u001b[0;34m()\u001b[0m\n",
      "File \u001b[0;32mparsers.pyx:2061\u001b[0m, in \u001b[0;36mpandas._libs.parsers.raise_parser_error\u001b[0;34m()\u001b[0m\n",
      "\u001b[0;31mParserError\u001b[0m: Error tokenizing data. C error: Calling read(nbytes) on source failed. Try engine='python'."
     ]
    }
   ],
   "source": [
    "full_df_path = \"~/Загрузки/BIG DATA/df_2.csv\"\n",
    "data_y_path = \"~/Загрузки/BIG DATA/target_2.csv\"\n",
    "data_x_val_path = \"./X_val.csv\"\n",
    "data_y_val_path = \"./y_val.csv\"\n",
    "\n",
    "model, metrics = pipeline(data_y_path=data_y_path, data_X_path=full_df_path, data_x_valid_path=data_x_val_path, data_y_valid_path=data_y_val_path)\n"
   ]
  },
  {
   "cell_type": "code",
   "execution_count": null,
   "metadata": {},
   "outputs": [],
   "source": [
    "from datetime import datetime\n",
    "\n",
    "def save_metrics(metrics):\n",
    "    timestamp = datetime.now().strftime(\"%Y-%m-%d %H:%M:%S\")\n",
    "\n",
    "    with open('~/Рабочий стол/C2_M5/metrics.txt', 'w') as metrics_file:\n",
    "        metrics_file.write(f\"Timestamp: {timestamp}\\n\")\n",
    "        for key, value in metrics.items():\n",
    "            metrics_file.write(f\"{key}: {value}\\n\")\n",
    "\n",
    "save_metrics(metrics)"
   ]
  }
 ],
 "metadata": {
  "kernelspec": {
   "display_name": "main_venv",
   "language": "python",
   "name": "python3"
  },
  "language_info": {
   "codemirror_mode": {
    "name": "ipython",
    "version": 3
   },
   "file_extension": ".py",
   "mimetype": "text/x-python",
   "name": "python",
   "nbconvert_exporter": "python",
   "pygments_lexer": "ipython3",
   "version": "3.11.2"
  }
 },
 "nbformat": 4,
 "nbformat_minor": 2
}
